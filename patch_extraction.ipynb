{
 "cells": [
  {
   "cell_type": "code",
   "execution_count": null,
   "metadata": {},
   "outputs": [],
   "source": [
    "from poselets import extract_poselets, biggest_poselet\n",
    "from patches import patches_from_poselet\n",
    "from configparser import ConfigParser\n",
    "from skimage.io import imread, imshow, imsave\n",
    "import mysql.connector as conn"
   ]
  },
  {
   "cell_type": "code",
   "execution_count": null,
   "metadata": {},
   "outputs": [],
   "source": [
    "FEATURE_CODES = [\n",
    "    24, 192,     # right & left elbow\n",
    "    12, 96,      # right & left arm\n",
    "    6, 34,       # right & left shoulder\n",
    "    514, 4098,   # right & left torso\n",
    "    1536, 12288, # right & left hip\n",
    "    3072, 24576] # right & left thigh"
   ]
  },
  {
   "cell_type": "code",
   "execution_count": null,
   "metadata": {},
   "outputs": [],
   "source": [
    "config = ConfigParser()\n",
    "config.read_file(open('config.ini'))"
   ]
  },
  {
   "cell_type": "code",
   "execution_count": null,
   "metadata": {},
   "outputs": [],
   "source": [
    "data_config = config['data']\n",
    "samples_path = data_config.get('samples_path')"
   ]
  },
  {
   "cell_type": "code",
   "execution_count": null,
   "metadata": {},
   "outputs": [],
   "source": [
    "database_config = config['database']\n",
    "host = database_config.get('host')\n",
    "name = database_config.get('name')\n",
    "username = database_config.get('username')\n",
    "password = database_config.get('password')"
   ]
  },
  {
   "cell_type": "code",
   "execution_count": null,
   "metadata": {},
   "outputs": [],
   "source": [
    "db = conn.connect(host=host, database=name, user=username, passwd=password)"
   ]
  },
  {
   "cell_type": "code",
   "execution_count": null,
   "metadata": {},
   "outputs": [],
   "source": [
    "cursor = db.cursor()"
   ]
  },
  {
   "cell_type": "code",
   "execution_count": null,
   "metadata": {},
   "outputs": [],
   "source": [
    "cursor.execute('''\n",
    "select samples.costumeFK, samples.file_name from samples\n",
    "left join patches on patches.sampleFK = samples.sampleID\n",
    "where samples.is_usable = 1 and patches.patchID is null\n",
    "''')"
   ]
  },
  {
   "cell_type": "code",
   "execution_count": null,
   "metadata": {},
   "outputs": [],
   "source": [
    "cls_images = [(c[0], imread(samples_path + c[1] + '.jpg')) for c in cursor.fetchall()]"
   ]
  },
  {
   "cell_type": "code",
   "execution_count": null,
   "metadata": {},
   "outputs": [],
   "source": [
    "for cls, image in cls_images:\n",
    "    all_keypoints = extract_poselets(image)\n",
    "    if all_keypoints and len(all_keypoints):\n",
    "        keypoints = biggest_poselet(all_keypoints)\n",
    "        patches = patches_from_poselet(images[0], keypoints)\n",
    "        for patch, feature_code in zip(patches, FEATURE_CODES):\n",
    "            patch_path = '%s/%s.png' % (samples_path, cls)\n",
    "            # uncomment to save patches\n",
    "            #imsave(patch_path)\n",
    "    else:\n",
    "        print('No poselet detected', image)"
   ]
  }
 ],
 "metadata": {
  "kernelspec": {
   "display_name": "Python 3",
   "language": "python",
   "name": "python3"
  },
  "language_info": {
   "codemirror_mode": {
    "name": "ipython",
    "version": 3
   },
   "file_extension": ".py",
   "mimetype": "text/x-python",
   "name": "python",
   "nbconvert_exporter": "python",
   "pygments_lexer": "ipython3",
   "version": "3.9.1"
  }
 },
 "nbformat": 4,
 "nbformat_minor": 4
}
