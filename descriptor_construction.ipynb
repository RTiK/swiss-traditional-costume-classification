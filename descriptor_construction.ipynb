{
 "cells": [
  {
   "cell_type": "code",
   "execution_count": null,
   "metadata": {},
   "outputs": [],
   "source": [
    "from sklearn.model_selection import ParameterGrid\n",
    "from utils import *\n",
    "from evaluation import *\n",
    "from mergers import compute_descriptors\n",
    "from configparser import ConfigParser\n",
    "import mysql.connector as conn\n",
    "%matplotlib inline"
   ]
  },
  {
   "cell_type": "code",
   "execution_count": null,
   "metadata": {},
   "outputs": [],
   "source": [
    "params = ParameterGrid({'color_space': ['rgb', 'yiq', '0iq', 'lab', '0ab'], \n",
    "                        'similarity_metric': ['mse', 'inplace_mse', 'cc', 'inplace_cc']})"
   ]
  },
  {
   "cell_type": "code",
   "execution_count": null,
   "metadata": {},
   "outputs": [],
   "source": [
    "all_params = [(param['color_space'], param['similarity_metric']) for param in params]"
   ]
  },
  {
   "cell_type": "code",
   "execution_count": null,
   "metadata": {},
   "outputs": [],
   "source": [
    "config = ConfigParser()\n",
    "config.read_file(open('config.ini'))"
   ]
  },
  {
   "cell_type": "markdown",
   "metadata": {},
   "source": [
    "Get the database credentials from configuration or enter credentials manually if you have defined a different user for training (e.g. with write access)"
   ]
  },
  {
   "cell_type": "code",
   "execution_count": null,
   "metadata": {},
   "outputs": [],
   "source": [
    "db_config = config['database']  # get the DB credentials from configuration or enter credentials manually\n",
    "host_name = db_config.get('host')\n",
    "db_name = db_config.get('name')\n",
    "username = db_config.get('username')\n",
    "password = db_config.get('password')"
   ]
  },
  {
   "cell_type": "code",
   "execution_count": null,
   "metadata": {},
   "outputs": [],
   "source": [
    "data_config = config['data']\n",
    "PATCHES_PATH = data_config.get('patches_path')"
   ]
  },
  {
   "cell_type": "code",
   "execution_count": null,
   "metadata": {},
   "outputs": [],
   "source": [
    "db = conn.connect(host=host_name, database=db_name, user=username, passwd=password)\n",
    "cursor = db.cursor()"
   ]
  },
  {
   "cell_type": "markdown",
   "metadata": {},
   "source": [
    "This is a good place to filter out costume types that don't have enough samples."
   ]
  },
  {
   "cell_type": "code",
   "execution_count": null,
   "metadata": {},
   "outputs": [],
   "source": [
    "cursor.execute('''\n",
    "select a.costumeFK, min(num_of_patches) as min_num_of_patches from costumes\n",
    "join (\n",
    "    select samples.costumeFK, patches.feature_code, count(patches.patchID) as num_of_patches \n",
    "    from patches\n",
    "    join samples on patches.sampleFK = samples.sampleID\n",
    "    where samples.is_usable = 1\n",
    "    group by samples.costumeFK, patches.feature_code\n",
    "    ) as a on a.costumeFK = costumes.costumeID\n",
    "group by a.costumeFK\n",
    "order by min_num_of_patches desc\n",
    "''')"
   ]
  },
  {
   "cell_type": "code",
   "execution_count": null,
   "metadata": {},
   "outputs": [],
   "source": [
    "all_costumes = [c[0] for c in cursor.fetchall()]"
   ]
  },
  {
   "cell_type": "code",
   "execution_count": null,
   "metadata": {},
   "outputs": [],
   "source": [
    "costumes = all_costumes[:10]  # or enter the IDs of the costumes you want to train"
   ]
  },
  {
   "cell_type": "code",
   "execution_count": null,
   "metadata": {},
   "outputs": [],
   "source": [
    "data = {}\n",
    "for costume in costumes:\n",
    "    cursor.execute('''\n",
    "    SELECT patches.feature_code, GROUP_CONCAT(patches.file_name) FROM patches\n",
    "    JOIN samples ON samples.sampleID = patches.sampleFK\n",
    "    WHERE samples.costumeFK = %(costumeID)s\n",
    "    GROUP BY patches.feature_code\n",
    "    ''', {'costumeID': costume})\n",
    "    # GROUP_CONCAT may produce return strings that MySQL doesn't support, you can change that in the settings\n",
    "    features = {c[0]: c[1].split(',') for c in cursor.fetchall()}\n",
    "    data[costume] = features"
   ]
  },
  {
   "cell_type": "code",
   "execution_count": null,
   "metadata": {},
   "outputs": [],
   "source": [
    "img_data = read_patches_rgb(data)"
   ]
  },
  {
   "cell_type": "code",
   "execution_count": null,
   "metadata": {},
   "outputs": [],
   "source": [
    "descriptors = compute_descriptors(img_data, MseMerger)"
   ]
  },
  {
   "cell_type": "code",
   "execution_count": null,
   "metadata": {},
   "outputs": [],
   "source": [
    "save_descriptors_as_npy(descriptors, 'mse', 'rgb')"
   ]
  }
 ],
 "metadata": {
  "kernelspec": {
   "display_name": "Python 3",
   "language": "python",
   "name": "python3"
  },
  "language_info": {
   "codemirror_mode": {
    "name": "ipython",
    "version": 3
   },
   "file_extension": ".py",
   "mimetype": "text/x-python",
   "name": "python",
   "nbconvert_exporter": "python",
   "pygments_lexer": "ipython3",
   "version": "3.9.1"
  }
 },
 "nbformat": 4,
 "nbformat_minor": 2
}
